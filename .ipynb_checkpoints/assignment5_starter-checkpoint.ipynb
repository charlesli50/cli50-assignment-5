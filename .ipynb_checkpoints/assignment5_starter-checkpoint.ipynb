{
 "cells": [
  {
   "cell_type": "code",
   "execution_count": 29,
   "metadata": {},
   "outputs": [],
   "source": [
    "import numpy as np\n",
    "import pandas as pd\n",
    "\n",
    "from sklearn.preprocessing import StandardScaler\n",
    "from sklearn.preprocessing import LabelEncoder"
   ]
  },
  {
   "cell_type": "code",
   "execution_count": 5,
   "metadata": {},
   "outputs": [],
   "source": [
    "# Define the KNN class\n",
    "class KNN:\n",
    "    def __init__(self, k=3, distance_metric='euclidean'):\n",
    "        self.k = k\n",
    "        self.distance_metric = distance_metric\n",
    "\n",
    "    def fit(self, X, y):\n",
    "        # TODO: Implement the fit method\n",
    "        pass\n",
    "\n",
    "    def predict(self, X):\n",
    "        # TODO: Implement the predict method\n",
    "        pass\n",
    "\n",
    "    def compute_distance(self, X1, X2):\n",
    "        # TODO: Implement distance computation based on self.distance_metric\n",
    "        # Hint: Use numpy operations for efficient computation\n",
    "        pass"
   ]
  },
  {
   "cell_type": "code",
   "execution_count": 39,
   "metadata": {},
   "outputs": [],
   "source": [
    "# Define data preprocessing function\n",
    "def preprocess_data(train_path, test_path):\n",
    "    train_data = pd.read_csv(train_path)\n",
    "    test_data = pd.read_csv(test_path)\n",
    "\n",
    "    # TODO: Implement data preprocessing\n",
    "    # Handle categorical variables, scale features, etc\n",
    "    \n",
    "    X = train_data.drop(['id', 'CustomerId', 'Surname', 'Exited'], axis=1)\n",
    "    y = train_data['Exited']\n",
    "    X_test = test_data.drop(['id', 'CustomerId', 'Surname'], axis=1)\n",
    "    \n",
    "    \n",
    "    # process xtrain and test\n",
    "    def process(df, scalar=None):\n",
    "        \n",
    "        #encode geography and gender\n",
    "        le = LabelEncoder()\n",
    "        df['Geography'] = le.fit_transform(df['Geography'])\n",
    "        df['Gender'] = le.fit_transform(df['Gender'])\n",
    "        \n",
    "        #scale everyting\n",
    "        if scalar is None:  \n",
    "            scalar = StandardScaler()\n",
    "            df_scaled = scalar.fit_transform(df)\n",
    "        else:  \n",
    "            df_scaled = scalar.transform(df)\n",
    "        \n",
    "        df_scaled = pd.DataFrame(df_scaled, columns=df.columns, index=df.index)\n",
    "        \n",
    "        return df_scaled, scalar\n",
    "            \n",
    "    X, scalar = process(X)\n",
    "    X_test, _ = process(X_test, scalar)\n",
    "    \n",
    "    return X, y, X_test\n",
    "    \n",
    "    \n",
    "    "
   ]
  },
  {
   "cell_type": "code",
   "execution_count": 40,
   "metadata": {},
   "outputs": [
    {
     "name": "stdout",
     "output_type": "stream",
     "text": [
      "Index(['CreditScore', 'Geography', 'Gender', 'Age', 'Tenure', 'Balance',\n",
      "       'NumOfProducts', 'HasCrCard', 'IsActiveMember', 'EstimatedSalary'],\n",
      "      dtype='object')\n"
     ]
    },
    {
     "data": {
      "text/plain": [
       "0        0.475480\n",
       "1       -0.752515\n",
       "2       -0.752515\n",
       "3       -0.752515\n",
       "4       -0.752515\n",
       "           ...   \n",
       "14995    1.703474\n",
       "14996   -0.752515\n",
       "14997   -0.752515\n",
       "14998    0.475480\n",
       "14999    1.703474\n",
       "Name: Geography, Length: 15000, dtype: float64"
      ]
     },
     "execution_count": 40,
     "metadata": {},
     "output_type": "execute_result"
    }
   ],
   "source": [
    "df = pd.read_csv('./train.csv')\n",
    "# print(df.columns)\n",
    "\n",
    "X, y, X_test = preprocess_data('./train.csv', './test.csv')\n",
    "print(X.columns)\n",
    "\n",
    "X['Geography']\n"
   ]
  },
  {
   "cell_type": "code",
   "execution_count": 7,
   "metadata": {},
   "outputs": [],
   "source": [
    "# Define cross-validation function\n",
    "def cross_validate(X, y, knn, n_splits=5):\n",
    "    # TODO: Implement cross-validation\n",
    "    # Compute ROC AUC scores\n",
    "    pass"
   ]
  },
  {
   "cell_type": "code",
   "execution_count": null,
   "metadata": {},
   "outputs": [],
   "source": [
    "# Load and preprocess data\n",
    "X, y, X_test = preprocess_data('/path/of/train.csv', '/path/of/test.csv')\n",
    "\n",
    "# Create and evaluate model\n",
    "knn = KNN(k=5, distance_metric='euclidean')\n",
    "\n",
    "# Perform cross-validation\n",
    "cv_scores = cross_validate(X, y, knn)\n",
    "\n",
    "print(\"Cross-validation scores:\", cv_scores)\n",
    "\n",
    "# TODO: hyperparamters tuning\n",
    "\n",
    "\n",
    "# TODO: Train on full dataset with optimal hyperparameters and make predictions on test set\n",
    "knn = ...\n",
    "knn.fit(X, y)\n",
    "test_predictions = knn.predict(X_test)\n",
    "\n",
    "# Save test predictions\n",
    "pd.DataFrame({'id': pd.read_csv('/path/of/test.csv')['id'], 'Exited': test_predictions}).to_csv('submissions.csv', index=False)"
   ]
  }
 ],
 "metadata": {
  "kernelspec": {
   "display_name": "Python 3",
   "language": "python",
   "name": "python3"
  },
  "language_info": {
   "codemirror_mode": {
    "name": "ipython",
    "version": 3
   },
   "file_extension": ".py",
   "mimetype": "text/x-python",
   "name": "python",
   "nbconvert_exporter": "python",
   "pygments_lexer": "ipython3",
   "version": "3.8.5"
  }
 },
 "nbformat": 4,
 "nbformat_minor": 2
}
